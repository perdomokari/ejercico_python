{
  "nbformat": 4,
  "nbformat_minor": 0,
  "metadata": {
    "colab": {
      "name": "prueba_python2.ipynb",
      "provenance": [],
      "authorship_tag": "ABX9TyN0bGzuhJFhlW5BnIB0vqVN",
      "include_colab_link": true
    },
    "kernelspec": {
      "name": "python3",
      "display_name": "Python 3"
    },
    "language_info": {
      "name": "python"
    }
  },
  "cells": [
    {
      "cell_type": "markdown",
      "metadata": {
        "id": "view-in-github",
        "colab_type": "text"
      },
      "source": [
        "<a href=\"https://colab.research.google.com/github/perdomokari/ejercico_python/blob/main/prueba_python2.ipynb\" target=\"_parent\"><img src=\"https://colab.research.google.com/assets/colab-badge.svg\" alt=\"Open In Colab\"/></a>"
      ]
    },
    {
      "cell_type": "code",
      "execution_count": 5,
      "metadata": {
        "colab": {
          "base_uri": "https://localhost:8080/"
        },
        "id": "XNS8Mz1_air3",
        "outputId": "ecd953c2-1eb3-4ec2-b2d5-36914ef805bd"
      },
      "outputs": [
        {
          "output_type": "stream",
          "name": "stdout",
          "text": [
            "es falso\n"
          ]
        }
      ],
      "source": [
        "condicion =  False\n",
        "if condicion == True:\n",
        "  print(\"es verdad\")\n",
        "else:\n",
        "  print(\"es falso\")"
      ]
    },
    {
      "cell_type": "code",
      "source": [
        "x = input(\"Ingrese v\")\n",
        "if x != True\n",
        "  print(\"es verdad\")\n",
        "else:\n",
        "  print(\"es falso\")"
      ],
      "metadata": {
        "colab": {
          "base_uri": "https://localhost:8080/",
          "height": 133
        },
        "id": "y_p-y0fVb4FF",
        "outputId": "5369dde8-403c-44a4-95ed-0fc6e9aed812"
      },
      "execution_count": 9,
      "outputs": [
        {
          "output_type": "error",
          "ename": "SyntaxError",
          "evalue": "ignored",
          "traceback": [
            "\u001b[0;36m  File \u001b[0;32m\"<ipython-input-9-29e358133ce7>\"\u001b[0;36m, line \u001b[0;32m2\u001b[0m\n\u001b[0;31m    if x != True\u001b[0m\n\u001b[0m                ^\u001b[0m\n\u001b[0;31mSyntaxError\u001b[0m\u001b[0;31m:\u001b[0m invalid syntax\n"
          ]
        }
      ]
    },
    {
      "cell_type": "code",
      "source": [
        "x = bool(input(\"Ingrese verdad o false: \"))\n",
        "if x == True:\n",
        "  print (\"es verdad\")\n",
        "else:\n",
        "  print(\"es falso\")"
      ],
      "metadata": {
        "colab": {
          "base_uri": "https://localhost:8080/"
        },
        "id": "fXIHpGN1cuLN",
        "outputId": "48283de3-0471-49a8-967c-fe64543c8908"
      },
      "execution_count": 16,
      "outputs": [
        {
          "output_type": "stream",
          "name": "stdout",
          "text": [
            "Ingrese verdad o false: 0\n",
            "es verdad\n"
          ]
        }
      ]
    },
    {
      "cell_type": "code",
      "source": [
        "x = int(input(\"Ingrese 1 o 2: \"))\n",
        "if x == 1 and x == 2:\n",
        "  print (\"es verdad\")\n",
        "else:\n",
        "  print(\"no encontrado\")"
      ],
      "metadata": {
        "colab": {
          "base_uri": "https://localhost:8080/"
        },
        "id": "3gliKwdAgrQT",
        "outputId": "1617c815-15e5-42a4-c0c3-7c8d74b63bb2"
      },
      "execution_count": 27,
      "outputs": [
        {
          "output_type": "stream",
          "name": "stdout",
          "text": [
            "Ingrese 1 o 2: 12\n",
            "no encontrado\n"
          ]
        }
      ]
    },
    {
      "cell_type": "code",
      "source": [
        ">>> num =2\n",
        ">>> while num < 100:\n",
        "    num = num * 2\n",
        "    print (num)\n",
        "4\n",
        "8\n",
        "16\n",
        "32\n",
        "64\n",
        "128\n",
        ">>> num = 10\n",
        ">>>\n"
      ],
      "metadata": {
        "colab": {
          "base_uri": "https://localhost:8080/"
        },
        "id": "bKC167gBmO1s",
        "outputId": "e7026ecf-0675-4afd-c9cd-847f6b30ad8a"
      },
      "execution_count": 31,
      "outputs": [
        {
          "output_type": "stream",
          "name": "stdout",
          "text": [
            "4\n",
            "8\n",
            "16\n",
            "32\n",
            "64\n",
            "128\n"
          ]
        }
      ]
    }
  ]
}