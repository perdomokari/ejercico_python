{
  "nbformat": 4,
  "nbformat_minor": 0,
  "metadata": {
    "colab": {
      "name": "sistemaCalificaciones.ipynb",
      "provenance": [],
      "authorship_tag": "ABX9TyNVlQFFziQ3KvLwPiZz+MIi",
      "include_colab_link": true
    },
    "kernelspec": {
      "name": "python3",
      "display_name": "Python 3"
    },
    "language_info": {
      "name": "python"
    }
  },
  "cells": [
    {
      "cell_type": "markdown",
      "metadata": {
        "id": "view-in-github",
        "colab_type": "text"
      },
      "source": [
        "<a href=\"https://colab.research.google.com/github/perdomokari/ejercico_python/blob/main/sistemaCalificaciones.ipynb\" target=\"_parent\"><img src=\"https://colab.research.google.com/assets/colab-badge.svg\" alt=\"Open In Colab\"/></a>"
      ]
    },
    {
      "cell_type": "code",
      "execution_count": 31,
      "metadata": {
        "colab": {
          "base_uri": "https://localhost:8080/"
        },
        "id": "0u5mE9PktGNy",
        "outputId": "392353e5-c3d6-49c5-8d2f-d8859b9df9ff"
      },
      "outputs": [
        {
          "output_type": "stream",
          "name": "stdout",
          "text": [
            "Ingrese un numero entre 0 and 10: 11\n",
            "no encontrado\n"
          ]
        }
      ],
      "source": [
        " x = int(input(\"Ingrese un numero entre 0 and 10: \"))\n",
        "\n",
        "if x >=9 and x <=10:\n",
        "  print(\"A\")\n",
        "elif x >=8 and x <=9:\n",
        "  print(\"B\")\n",
        "elif x >=7 and x <=8:\n",
        "  print(\"C\")\n",
        "elif x >= 7 and x <=6:\n",
        "  print(\"D\")\n",
        "elif x <6 and x >=0:\n",
        "  print(\"F\")\n",
        "else:\n",
        "  print(\"no encontrado\")"
      ]
    },
    {
      "cell_type": "code",
      "source": [
        "num =0\n",
        "while num < 5:\n",
        "  num = num +1\n",
        "  print(num)\n",
        "  1\n",
        "  2\n",
        "  3\n",
        "  4\n",
        "  5\n",
        "\n"
      ],
      "metadata": {
        "colab": {
          "base_uri": "https://localhost:8080/"
        },
        "id": "eZCq-n7a_4oz",
        "outputId": "ceb4d0fe-eb17-46db-cb86-7923bad76d04"
      },
      "execution_count": 28,
      "outputs": [
        {
          "output_type": "stream",
          "name": "stdout",
          "text": [
            "1\n",
            "2\n",
            "3\n",
            "4\n",
            "5\n"
          ]
        }
      ]
    }
  ]
}