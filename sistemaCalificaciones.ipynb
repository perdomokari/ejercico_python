{
  "nbformat": 4,
  "nbformat_minor": 0,
  "metadata": {
    "colab": {
      "name": "sistemaCalificaciones.ipynb",
      "provenance": [],
      "authorship_tag": "ABX9TyME8La5VITIsjpANa9pjsbG",
      "include_colab_link": true
    },
    "kernelspec": {
      "name": "python3",
      "display_name": "Python 3"
    },
    "language_info": {
      "name": "python"
    }
  },
  "cells": [
    {
      "cell_type": "markdown",
      "metadata": {
        "id": "view-in-github",
        "colab_type": "text"
      },
      "source": [
        "<a href=\"https://colab.research.google.com/github/perdomokari/ejercico_python/blob/main/sistemaCalificaciones.ipynb\" target=\"_parent\"><img src=\"https://colab.research.google.com/assets/colab-badge.svg\" alt=\"Open In Colab\"/></a>"
      ]
    },
    {
      "cell_type": "code",
      "execution_count": 35,
      "metadata": {
        "colab": {
          "base_uri": "https://localhost:8080/"
        },
        "id": "0u5mE9PktGNy",
        "outputId": "5cb9ed9b-3f0a-4f8e-f277-ac32f71bcb7e"
      },
      "outputs": [
        {
          "output_type": "stream",
          "name": "stdout",
          "text": [
            "Ingrese un numero entre 0 and 10: 12\n",
            "no encontrado\n"
          ]
        }
      ],
      "source": [
        " x = int(input(\"Ingrese un numero entre 0 and 10: \"))\n",
        "\n",
        "if x >=9 and x <=10:\n",
        "  print(\"A\")\n",
        "elif x >=8 and x <=9:\n",
        "  print(\"B\")\n",
        "elif x >=7 and x <=8:\n",
        "  print(\"C\")\n",
        "elif x >= 7 and x <=6:\n",
        "  print(\"D\")\n",
        "elif x <6 and x >=0:\n",
        "  print(\"F\")\n",
        "else:\n",
        "  print(\"no encontrado\")"
      ]
    },
    {
      "cell_type": "code",
      "source": [
        "num =0\n",
        "while num < 5:\n",
        "  num = num +1\n",
        "  print(num)\n",
        "  1\n",
        "  2\n",
        "  3\n",
        "  4\n",
        "  5"
      ],
      "metadata": {
        "colab": {
          "base_uri": "https://localhost:8080/"
        },
        "id": "I7SkpP8gHLlA",
        "outputId": "28099d6e-db8b-486f-930a-a76e36edd2fd"
      },
      "execution_count": 38,
      "outputs": [
        {
          "output_type": "stream",
          "name": "stdout",
          "text": [
            "1\n",
            "2\n",
            "3\n",
            "4\n",
            "5\n"
          ]
        }
      ]
    },
    {
      "cell_type": "code",
      "source": [
        "cadena = \"hola\"\n",
        "for c in cadena:\n",
        "  print(c)\n",
        "else:\n",
        "  print(\"fin del ciclo for\")"
      ],
      "metadata": {
        "colab": {
          "base_uri": "https://localhost:8080/"
        },
        "id": "cQt0ol-TKYx9",
        "outputId": "da3a45c5-043d-432f-aafd-182150644847"
      },
      "execution_count": 39,
      "outputs": [
        {
          "output_type": "stream",
          "name": "stdout",
          "text": [
            "h\n",
            "o\n",
            "l\n",
            "a\n",
            "fin del ciclo for\n"
          ]
        }
      ]
    },
    {
      "cell_type": "code",
      "source": [
        "for i in \"Holanda\":\n",
        "  if i == \"n\" :\n",
        "    print(f\"letra encontrada: {i}\")\n",
        "    break\n",
        "else:\n",
        "    print(\"fin de ciclo\")"
      ],
      "metadata": {
        "colab": {
          "base_uri": "https://localhost:8080/"
        },
        "id": "7wf16oefLlPD",
        "outputId": "e5d2185c-8120-477a-d78d-28a73bee67d6"
      },
      "execution_count": 42,
      "outputs": [
        {
          "output_type": "stream",
          "name": "stdout",
          "text": [
            "letra encontrada: n\n"
          ]
        }
      ]
    },
    {
      "cell_type": "code",
      "source": [
        "for i in range(6):\n",
        "  if i % 2 != 0 :\n",
        "    continue\n",
        "  print(f\"letra encontrada: {i}\")\n"
      ],
      "metadata": {
        "colab": {
          "base_uri": "https://localhost:8080/"
        },
        "id": "iUoCwTBDOOCr",
        "outputId": "63557cea-5718-4104-f10b-420bd00a85a9"
      },
      "execution_count": 45,
      "outputs": [
        {
          "output_type": "stream",
          "name": "stdout",
          "text": [
            "letra encontrada: 0\n",
            "letra encontrada: 2\n",
            "letra encontrada: 4\n"
          ]
        }
      ]
    },
    {
      "cell_type": "code",
      "source": [
        "for i in range(6):\n",
        "  if i % 2 == 0 :\n",
        "    continue\n",
        "  print(f\"letra encontrada: {i}\")"
      ],
      "metadata": {
        "colab": {
          "base_uri": "https://localhost:8080/"
        },
        "id": "R1Fvuc7wRmmN",
        "outputId": "a32451e4-6d40-418b-d695-adbf47213f74"
      },
      "execution_count": 48,
      "outputs": [
        {
          "output_type": "stream",
          "name": "stdout",
          "text": [
            "letra encontrada: 1\n",
            "letra encontrada: 3\n",
            "letra encontrada: 5\n"
          ]
        }
      ]
    },
    {
      "cell_type": "code",
      "source": [
        "for x in range(6):\n",
        "  if x == 7 :\n",
        "    break\n",
        "  print(x)\n",
        "else :\n",
        "  print(\"Finally finished\")"
      ],
      "metadata": {
        "colab": {
          "base_uri": "https://localhost:8080/"
        },
        "id": "62GLuTWweKqG",
        "outputId": "30e368b7-f877-42ca-d208-93f28c59a271"
      },
      "execution_count": 53,
      "outputs": [
        {
          "output_type": "stream",
          "name": "stdout",
          "text": [
            "0\n",
            "1\n",
            "2\n",
            "3\n",
            "4\n",
            "5\n",
            "Finally finished\n"
          ]
        }
      ]
    },
    {
      "cell_type": "code",
      "source": [
        "nombres = [\"juan\",\"Karla\",\"Ricardo\",'Maria']\n",
        "print(nombres)"
      ],
      "metadata": {
        "colab": {
          "base_uri": "https://localhost:8080/"
        },
        "id": "aICssmNDlBMj",
        "outputId": "a5e0a3c4-2421-4c42-981b-f8650edc2a7d"
      },
      "execution_count": 58,
      "outputs": [
        {
          "output_type": "stream",
          "name": "stdout",
          "text": [
            "['juan', 'Karla', 'Ricardo', 'Maria']\n"
          ]
        }
      ]
    },
    {
      "cell_type": "code",
      "source": [
        "nombres = [\"Juan\",\"karla\",\"ricardo\",\"Maria\"]\n",
        "nombres [1:]"
      ],
      "metadata": {
        "colab": {
          "base_uri": "https://localhost:8080/"
        },
        "id": "-dIOsVRzmaHX",
        "outputId": "1d868ff1-ca63-4d66-ba2d-b6844a6b4aee"
      },
      "execution_count": 60,
      "outputs": [
        {
          "output_type": "execute_result",
          "data": {
            "text/plain": [
              "['karla', 'ricardo', 'Maria']"
            ]
          },
          "metadata": {},
          "execution_count": 60
        }
      ]
    },
    {
      "cell_type": "code",
      "source": [
        "for i in range(10):\n",
        "  if i % 3 != 0 :\n",
        "   print(f\"letra encontrada: {i}\")"
      ],
      "metadata": {
        "colab": {
          "base_uri": "https://localhost:8080/"
        },
        "id": "R2rvMEL_nmPd",
        "outputId": "6b96260e-0f0a-4bdc-d9f3-ba868782cb79"
      },
      "execution_count": 76,
      "outputs": [
        {
          "output_type": "stream",
          "name": "stdout",
          "text": [
            "letra encontrada: 1\n",
            "letra encontrada: 2\n",
            "letra encontrada: 4\n",
            "letra encontrada: 5\n",
            "letra encontrada: 7\n",
            "letra encontrada: 8\n"
          ]
        }
      ]
    },
    {
      "cell_type": "code",
      "source": [
        " for x in range(2,6):\n",
        "  if x == 7 :\n",
        "    break\n",
        "  print(x)\n",
        "else :\n",
        "  print(\"Finally finished\")"
      ],
      "metadata": {
        "colab": {
          "base_uri": "https://localhost:8080/"
        },
        "id": "Jf8AnoyUsGx5",
        "outputId": "f2a6a94c-668e-4075-b694-aee2bb592883"
      },
      "execution_count": 74,
      "outputs": [
        {
          "output_type": "stream",
          "name": "stdout",
          "text": [
            "2\n",
            "3\n",
            "4\n",
            "5\n",
            "Finally finished\n"
          ]
        }
      ]
    },
    {
      "cell_type": "code",
      "source": [
        "for x in range(3,10,2):\n",
        "  print(x)\n",
        "else :\n",
        "  print(\"Finally finished\")"
      ],
      "metadata": {
        "colab": {
          "base_uri": "https://localhost:8080/"
        },
        "id": "HGNLom43sgDS",
        "outputId": "d6375081-12cf-4696-def8-6f0f179df4d1"
      },
      "execution_count": 78,
      "outputs": [
        {
          "output_type": "stream",
          "name": "stdout",
          "text": [
            "3\n",
            "5\n",
            "7\n",
            "9\n",
            "Finally finished\n"
          ]
        }
      ]
    }
  ]
}